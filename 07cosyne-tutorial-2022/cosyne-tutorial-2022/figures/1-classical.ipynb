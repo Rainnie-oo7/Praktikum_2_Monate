{
 "cells": [
  {
   "cell_type": "code",
   "execution_count": null,
   "id": "0abb6b45",
   "metadata": {},
   "outputs": [],
   "source": [
    "%matplotlib inline\n",
    "from brian2 import *\n",
    "prefs.codegen.target = 'numpy'"
   ]
  },
  {
   "cell_type": "code",
   "execution_count": null,
   "id": "1fd02dbf",
   "metadata": {},
   "outputs": [],
   "source": [
    "start_scope()\n",
    "G = NeuronGroup(1, 'dv/dt=-v/(10*ms):1', method='exact')\n",
    "G.v = 0.8\n",
    "M = StateMonitor(G, 'v', record=True)\n",
    "run(50*ms)\n",
    "\n",
    "figure(figsize=(4, 3), dpi=200)\n",
    "plot(M.t/ms, M.v[0], '-k')\n",
    "xlim(0, 50)\n",
    "ylim(-0.1, 1.2)\n",
    "xlabel('Time (ms)')\n",
    "ylabel('V')\n",
    "tight_layout()"
   ]
  },
  {
   "cell_type": "code",
   "execution_count": null,
   "id": "af000eee",
   "metadata": {},
   "outputs": [],
   "source": [
    "start_scope()\n",
    "G = NeuronGroup(1, 'dv/dt=-v/(10*ms):1', method='exact')\n",
    "G.v = 0\n",
    "M = StateMonitor(G, 'v', record=True)\n",
    "run(10*ms)\n",
    "G.v = 0.5\n",
    "run(40*ms)\n",
    "\n",
    "figure(figsize=(4, 3), dpi=200)\n",
    "axvline(10, ls=':', c='b')\n",
    "plot(M.t/ms, M.v[0], '-k')\n",
    "xlim(0, 50)\n",
    "ylim(-0.1, 1.2)\n",
    "xlabel('Time (ms)')\n",
    "ylabel('V')\n",
    "tight_layout()"
   ]
  },
  {
   "cell_type": "code",
   "execution_count": null,
   "id": "04119448",
   "metadata": {},
   "outputs": [],
   "source": [
    "start_scope()\n",
    "G = NeuronGroup(1, 'dv/dt=-v/(10*ms):1', threshold='v>1', reset='v=0', method='exact')\n",
    "G.v = 0\n",
    "M = StateMonitor(G, 'v', record=True, when='before_resets')\n",
    "Msp = SpikeMonitor(G)\n",
    "for _ in range(10):\n",
    "    run(5*ms)\n",
    "    G.v += 0.55\n",
    "\n",
    "figure(figsize=(4, 3), dpi=200)\n",
    "for i in range(10):\n",
    "    axvline(i*5, ls=':', c='b')\n",
    "plot(M.t/ms, M.v[0], '-k')\n",
    "for t in Msp.t:\n",
    "    axvline(t/ms, ls='--', c='r')\n",
    "axhline(1, ls='--', c='g')\n",
    "xlim(0, 50)\n",
    "ylim(-0.1, 1.2)\n",
    "xlabel('Time (ms)')\n",
    "ylabel('V')\n",
    "tight_layout()"
   ]
  },
  {
   "cell_type": "code",
   "execution_count": null,
   "id": "871d3122",
   "metadata": {},
   "outputs": [],
   "source": [
    "start_scope()\n",
    "eqs = '''\n",
    "dv/dt = -v/(10*ms) : 1\n",
    "dvt/dt = (1-vt)/(50*ms) : 1\n",
    "'''\n",
    "G = NeuronGroup(1, eqs, threshold='v>vt', reset='v=0; vt+=0.2', method='exact')\n",
    "G.v = 0\n",
    "G.vt = 1\n",
    "M = StateMonitor(G, ('v', 'vt'), record=True, when='before_resets')\n",
    "Msp = SpikeMonitor(G)\n",
    "isi = 3*ms\n",
    "@network_operation(dt=isi)\n",
    "def incoming_spike(t):\n",
    "    if t>0*ms:\n",
    "        G.v += 0.7\n",
    "run(60*ms)\n",
    "\n",
    "figure(figsize=(4, 3), dpi=200)\n",
    "# for i in range(int(50*ms/isi)):\n",
    "#     axvline(i*isi/ms, ls=':', c='b')\n",
    "# for t in Msp.t:\n",
    "#     axvline(t/ms, ls='--', c='r')\n",
    "plot(M.t/ms, M.v[0], '-k')\n",
    "plot(M.t/ms, M.vt[0], ls='--', c='g', label='$V_t$')\n",
    "xlim(0, 60)\n",
    "ylim(-0.1, 2)\n",
    "xlabel('Time (ms)')\n",
    "ylabel('V')\n",
    "legend(loc='upper left')\n",
    "tight_layout()"
   ]
  }
 ],
 "metadata": {
  "kernelspec": {
   "display_name": "Python 3 (ipykernel)",
   "language": "python",
   "name": "python3"
  },
  "language_info": {
   "codemirror_mode": {
    "name": "ipython",
    "version": 3
   },
   "file_extension": ".py",
   "mimetype": "text/x-python",
   "name": "python",
   "nbconvert_exporter": "python",
   "pygments_lexer": "ipython3",
   "version": "3.10.2"
  }
 },
 "nbformat": 4,
 "nbformat_minor": 5
}

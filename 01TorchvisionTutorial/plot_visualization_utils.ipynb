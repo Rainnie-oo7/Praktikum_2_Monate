{
  "cells": [
    {
      "cell_type": "markdown",
      "metadata": {
        "id": "Wb4NXkJQg39l"
      },
      "source": [
        "\n",
        "# Visualization utilities\n",
        "\n",
        "<div class=\"alert alert-info\"><h4>Note</h4><p>Try on [Colab](https://colab.research.google.com/github/pytorch/vision/blob/gh-pages/main/_generated_ipynb_notebooks/plot_visualization_utils.ipynb)\n",
        "    or `go to the end <sphx_glr_download_auto_examples_others_plot_visualization_utils.py>` to download the full example code.</p></div>\n",
        "\n",
        "This example illustrates some of the utilities that torchvision offers for\n",
        "visualizing images, bounding boxes, segmentation masks and keypoints.\n"
      ]
    },
    {
      "cell_type": "code",
      "execution_count": null,
      "metadata": {
        "id": "EV67gPfqg39m"
      },
      "outputs": [],
      "source": [
        "import torch\n",
        "import numpy as np\n",
        "import matplotlib.pyplot as plt\n",
        "\n",
        "import torchvision.transforms.functional as F\n",
        "\n",
        "\n",
        "plt.rcParams[\"savefig.bbox\"] = 'tight'\n",
        "\n",
        "\n",
        "def show(imgs):\n",
        "    if not isinstance(imgs, list):\n",
        "        imgs = [imgs]\n",
        "    fig, axs = plt.subplots(ncols=len(imgs), squeeze=False)\n",
        "    for i, img in enumerate(imgs):\n",
        "        img = img.detach()\n",
        "        img = F.to_pil_image(img)\n",
        "        axs[0, i].imshow(np.asarray(img))\n",
        "        axs[0, i].set(xticklabels=[], yticklabels=[], xticks=[], yticks=[])"
      ]
    },
    {
      "cell_type": "markdown",
      "metadata": {
        "id": "bU2hepz9g39n"
      },
      "source": [
        "## Visualizing a grid of images\n",
        "The :func:`~torchvision.utils.make_grid` function can be used to create a\n",
        "tensor that represents multiple images in a grid.  This util requires a single\n",
        "image of dtype ``uint8`` as input.\n",
        "\n"
      ]
    },
    {
      "cell_type": "code",
      "execution_count": null,
      "metadata": {
        "id": "nsJE3VJLg39o"
      },
      "outputs": [],
      "source": [
        "from torchvision.utils import make_grid\n",
        "from torchvision.io import decode_image\n",
        "from pathlib import Path\n",
        "\n",
        "dog1_int = decode_image(str(Path('../assets') / 'dog1.jpg'))\n",
        "dog2_int = decode_image(str(Path('../assets') / 'dog2.jpg'))\n",
        "dog_list = [dog1_int, dog2_int]\n",
        "\n",
        "grid = make_grid(dog_list)\n",
        "show(grid)"
      ]
    },
    {
      "cell_type": "markdown",
      "metadata": {
        "id": "yjTPrQk8g39o"
      },
      "source": [
        "## Visualizing bounding boxes\n",
        "We can use :func:`~torchvision.utils.draw_bounding_boxes` to draw boxes on an\n",
        "image. We can set the colors, labels, width as well as font and font size.\n",
        "The boxes are in ``(xmin, ymin, xmax, ymax)`` format.\n",
        "\n"
      ]
    },
    {
      "cell_type": "code",
      "execution_count": null,
      "metadata": {
        "id": "FV-sr4GXg39p"
      },
      "outputs": [],
      "source": [
        "from torchvision.utils import draw_bounding_boxes\n",
        "\n",
        "\n",
        "boxes = torch.tensor([[50, 50, 100, 200], [210, 150, 350, 430]], dtype=torch.float)\n",
        "colors = [\"blue\", \"yellow\"]\n",
        "result = draw_bounding_boxes(dog1_int, boxes, colors=colors, width=5)\n",
        "show(result)"
      ]
    },
    {
      "cell_type": "markdown",
      "metadata": {
        "id": "VpNtJalBg39p"
      },
      "source": [
        "Naturally, we can also plot bounding boxes produced by torchvision detection\n",
        "models.  Here is a demo with a Faster R-CNN model loaded from\n",
        ":func:`~torchvision.models.detection.fasterrcnn_resnet50_fpn`\n",
        "model. For more details on the output of such models, you may\n",
        "refer to `instance_seg_output`.\n",
        "\n"
      ]
    },
    {
      "cell_type": "code",
      "execution_count": null,
      "metadata": {
        "id": "TaTjGOhdg39q"
      },
      "outputs": [],
      "source": [
        "from torchvision.models.detection import fasterrcnn_resnet50_fpn, FasterRCNN_ResNet50_FPN_Weights\n",
        "\n",
        "\n",
        "weights = FasterRCNN_ResNet50_FPN_Weights.DEFAULT\n",
        "transforms = weights.transforms()\n",
        "\n",
        "images = [transforms(d) for d in dog_list]\n",
        "\n",
        "model = fasterrcnn_resnet50_fpn(weights=weights, progress=False)\n",
        "model = model.eval()\n",
        "\n",
        "outputs = model(images)\n",
        "print(outputs)"
      ]
    },
    {
      "cell_type": "markdown",
      "metadata": {
        "id": "N1kdp6aCg39q"
      },
      "source": [
        "Let's plot the boxes detected by our model. We will only plot the boxes with a\n",
        "score greater than a given threshold.\n",
        "\n"
      ]
    },
    {
      "cell_type": "code",
      "execution_count": null,
      "metadata": {
        "id": "3hjYu_RPg39r"
      },
      "outputs": [],
      "source": [
        "score_threshold = .8\n",
        "dogs_with_boxes = [\n",
        "    draw_bounding_boxes(dog_int, boxes=output['boxes'][output['scores'] > score_threshold], width=4)\n",
        "    for dog_int, output in zip(dog_list, outputs)\n",
        "]\n",
        "show(dogs_with_boxes)"
      ]
    },
    {
      "cell_type": "markdown",
      "metadata": {
        "id": "SdhWjMMXg39r"
      },
      "source": [
        "## Visualizing segmentation masks\n",
        "The :func:`~torchvision.utils.draw_segmentation_masks` function can be used to\n",
        "draw segmentation masks on images. Semantic segmentation and instance\n",
        "segmentation models have different outputs, so we will treat each\n",
        "independently.\n",
        "\n",
        "\n",
        "### Semantic segmentation models\n",
        "\n",
        "We will see how to use it with torchvision's FCN Resnet-50, loaded with\n",
        ":func:`~torchvision.models.segmentation.fcn_resnet50`. Let's start by looking\n",
        "at the output of the model.\n",
        "\n"
      ]
    },
    {
      "cell_type": "code",
      "execution_count": null,
      "metadata": {
        "id": "W9uyGirig39s"
      },
      "outputs": [],
      "source": [
        "from torchvision.models.segmentation import fcn_resnet50, FCN_ResNet50_Weights\n",
        "\n",
        "weights = FCN_ResNet50_Weights.DEFAULT\n",
        "transforms = weights.transforms(resize_size=None)\n",
        "\n",
        "model = fcn_resnet50(weights=weights, progress=False)\n",
        "model = model.eval()\n",
        "\n",
        "batch = torch.stack([transforms(d) for d in dog_list])\n",
        "output = model(batch)['out']\n",
        "print(output.shape, output.min().item(), output.max().item())"
      ]
    },
    {
      "cell_type": "markdown",
      "metadata": {
        "id": "ukQ_ww1kg39s"
      },
      "source": [
        "As we can see above, the output of the segmentation model is a tensor of shape\n",
        "``(batch_size, num_classes, H, W)``. Each value is a non-normalized score, and\n",
        "we can normalize them into ``[0, 1]`` by using a softmax. After the softmax,\n",
        "we can interpret each value as a probability indicating how likely a given\n",
        "pixel is to belong to a given class.\n",
        "\n",
        "Let's plot the masks that have been detected for the dog class and for the\n",
        "boat class:\n",
        "\n"
      ]
    },
    {
      "cell_type": "code",
      "execution_count": null,
      "metadata": {
        "id": "Xhse1na_g39s"
      },
      "outputs": [],
      "source": [
        "sem_class_to_idx = {cls: idx for (idx, cls) in enumerate(weights.meta[\"categories\"])}\n",
        "\n",
        "normalized_masks = torch.nn.functional.softmax(output, dim=1)\n",
        "\n",
        "dog_and_boat_masks = [\n",
        "    normalized_masks[img_idx, sem_class_to_idx[cls]]\n",
        "    for img_idx in range(len(dog_list))\n",
        "    for cls in ('dog', 'boat')\n",
        "]\n",
        "\n",
        "show(dog_and_boat_masks)"
      ]
    },
    {
      "cell_type": "markdown",
      "metadata": {
        "id": "jHa9cqV1g39t"
      },
      "source": [
        "As expected, the model is confident about the dog class, but not so much for\n",
        "the boat class.\n",
        "\n",
        "The :func:`~torchvision.utils.draw_segmentation_masks` function can be used to\n",
        "plots those masks on top of the original image. This function expects the\n",
        "masks to be boolean masks, but our masks above contain probabilities in ``[0,\n",
        "1]``. To get boolean masks, we can do the following:\n",
        "\n"
      ]
    },
    {
      "cell_type": "code",
      "execution_count": null,
      "metadata": {
        "id": "PkoGIuBeg39t"
      },
      "outputs": [],
      "source": [
        "class_dim = 1\n",
        "boolean_dog_masks = (normalized_masks.argmax(class_dim) == sem_class_to_idx['dog'])\n",
        "print(f\"shape = {boolean_dog_masks.shape}, dtype = {boolean_dog_masks.dtype}\")\n",
        "show([m.float() for m in boolean_dog_masks])"
      ]
    },
    {
      "cell_type": "markdown",
      "metadata": {
        "id": "CG8zfoZyg39t"
      },
      "source": [
        "The line above where we define ``boolean_dog_masks`` is a bit cryptic, but you\n",
        "can read it as the following query: \"For which pixels is 'dog' the most likely\n",
        "class?\"\n",
        "\n",
        "<div class=\"alert alert-info\"><h4>Note</h4><p>While we're using the ``normalized_masks`` here, we would have\n",
        "  gotten the same result by using the non-normalized scores of the model\n",
        "  directly (as the softmax operation preserves the order).</p></div>\n",
        "\n",
        "Now that we have boolean masks, we can use them with\n",
        ":func:`~torchvision.utils.draw_segmentation_masks` to plot them on top of the\n",
        "original images:\n",
        "\n"
      ]
    },
    {
      "cell_type": "code",
      "execution_count": null,
      "metadata": {
        "id": "j1Wk1QzSg39t"
      },
      "outputs": [],
      "source": [
        "from torchvision.utils import draw_segmentation_masks\n",
        "\n",
        "dogs_with_masks = [\n",
        "    draw_segmentation_masks(img, masks=mask, alpha=0.7)\n",
        "    for img, mask in zip(dog_list, boolean_dog_masks)\n",
        "]\n",
        "show(dogs_with_masks)"
      ]
    },
    {
      "cell_type": "markdown",
      "metadata": {
        "id": "8SAelJk4g39t"
      },
      "source": [
        "We can plot more than one mask per image! Remember that the model returned as\n",
        "many masks as there are classes. Let's ask the same query as above, but this\n",
        "time for *all* classes, not just the dog class: \"For each pixel and each class\n",
        "C, is class C the most likely class?\"\n",
        "\n",
        "This one is a bit more involved, so we'll first show how to do it with a\n",
        "single image, and then we'll generalize to the batch\n",
        "\n"
      ]
    },
    {
      "cell_type": "code",
      "execution_count": null,
      "metadata": {
        "id": "5OjgMI5Kg39t"
      },
      "outputs": [],
      "source": [
        "num_classes = normalized_masks.shape[1]\n",
        "dog1_masks = normalized_masks[0]\n",
        "class_dim = 0\n",
        "dog1_all_classes_masks = dog1_masks.argmax(class_dim) == torch.arange(num_classes)[:, None, None]\n",
        "\n",
        "print(f\"dog1_masks shape = {dog1_masks.shape}, dtype = {dog1_masks.dtype}\")\n",
        "print(f\"dog1_all_classes_masks = {dog1_all_classes_masks.shape}, dtype = {dog1_all_classes_masks.dtype}\")\n",
        "\n",
        "dog_with_all_masks = draw_segmentation_masks(dog1_int, masks=dog1_all_classes_masks, alpha=.6)\n",
        "show(dog_with_all_masks)"
      ]
    },
    {
      "cell_type": "markdown",
      "metadata": {
        "id": "nCHvIuCqg39u"
      },
      "source": [
        "We can see in the image above that only 2 masks were drawn: the mask for the\n",
        "background and the mask for the dog. This is because the model thinks that\n",
        "only these 2 classes are the most likely ones across all the pixels. If the\n",
        "model had detected another class as the most likely among other pixels, we\n",
        "would have seen its mask above.\n",
        "\n",
        "Removing the background mask is as simple as passing\n",
        "``masks=dog1_all_classes_masks[1:]``, because the background class is the\n",
        "class with index 0.\n",
        "\n",
        "Let's now do the same but for an entire batch of images. The code is similar\n",
        "but involves a bit more juggling with the dimensions.\n",
        "\n"
      ]
    },
    {
      "cell_type": "code",
      "execution_count": null,
      "metadata": {
        "id": "jU9x4xi4g39u"
      },
      "outputs": [],
      "source": [
        "class_dim = 1\n",
        "all_classes_masks = normalized_masks.argmax(class_dim) == torch.arange(num_classes)[:, None, None, None]\n",
        "print(f\"shape = {all_classes_masks.shape}, dtype = {all_classes_masks.dtype}\")\n",
        "# The first dimension is the classes now, so we need to swap it\n",
        "all_classes_masks = all_classes_masks.swapaxes(0, 1)\n",
        "\n",
        "dogs_with_masks = [\n",
        "    draw_segmentation_masks(img, masks=mask, alpha=.6)\n",
        "    for img, mask in zip(dog_list, all_classes_masks)\n",
        "]\n",
        "show(dogs_with_masks)"
      ]
    },
    {
      "cell_type": "markdown",
      "metadata": {
        "id": "zKLWL2ERg39y"
      },
      "source": [
        "\n",
        "### Instance segmentation models\n",
        "\n",
        "Instance segmentation models have a significantly different output from the\n",
        "semantic segmentation models. We will see here how to plot the masks for such\n",
        "models. Let's start by analyzing the output of a Mask-RCNN model. Note that\n",
        "these models don't require the images to be normalized, so we don't need to\n",
        "use the normalized batch.\n",
        "\n",
        "<div class=\"alert alert-info\"><h4>Note</h4><p>We will here describe the output of a Mask-RCNN model. The models in\n",
        "    `object_det_inst_seg_pers_keypoint_det` all have a similar output\n",
        "    format, but some of them may have extra info like keypoints for\n",
        "    :func:`~torchvision.models.detection.keypointrcnn_resnet50_fpn`, and some\n",
        "    of them may not have masks, like\n",
        "    :func:`~torchvision.models.detection.fasterrcnn_resnet50_fpn`.</p></div>\n",
        "\n"
      ]
    },
    {
      "cell_type": "code",
      "execution_count": null,
      "metadata": {
        "id": "m0XF1oTVg39z"
      },
      "outputs": [],
      "source": [
        "from torchvision.models.detection import maskrcnn_resnet50_fpn, MaskRCNN_ResNet50_FPN_Weights\n",
        "\n",
        "weights = MaskRCNN_ResNet50_FPN_Weights.DEFAULT\n",
        "transforms = weights.transforms()\n",
        "\n",
        "images = [transforms(d) for d in dog_list]\n",
        "\n",
        "model = maskrcnn_resnet50_fpn(weights=weights, progress=False)\n",
        "model = model.eval()\n",
        "\n",
        "output = model(images)\n",
        "print(output)"
      ]
    },
    {
      "cell_type": "markdown",
      "metadata": {
        "id": "RnDEawLpg39z"
      },
      "source": [
        "Let's break this down. For each image in the batch, the model outputs some\n",
        "detections (or instances). The number of detections varies for each input\n",
        "image. Each instance is described by its bounding box, its label, its score\n",
        "and its mask.\n",
        "\n",
        "The way the output is organized is as follows: the output is a list of length\n",
        "``batch_size``. Each entry in the list corresponds to an input image, and it\n",
        "is a dict with keys 'boxes', 'labels', 'scores', and 'masks'. Each value\n",
        "associated to those keys has ``num_instances`` elements in it.  In our case\n",
        "above there are 3 instances detected in the first image, and 2 instances in\n",
        "the second one.\n",
        "\n",
        "The boxes can be plotted with :func:`~torchvision.utils.draw_bounding_boxes`\n",
        "as above, but here we're more interested in the masks. These masks are quite\n",
        "different from the masks that we saw above for the semantic segmentation\n",
        "models.\n",
        "\n"
      ]
    },
    {
      "cell_type": "code",
      "execution_count": null,
      "metadata": {
        "id": "zyWVGmGFg39z"
      },
      "outputs": [],
      "source": [
        "dog1_output = output[0]\n",
        "dog1_masks = dog1_output['masks']\n",
        "print(f\"shape = {dog1_masks.shape}, dtype = {dog1_masks.dtype}, \"\n",
        "      f\"min = {dog1_masks.min()}, max = {dog1_masks.max()}\")"
      ]
    },
    {
      "cell_type": "markdown",
      "metadata": {
        "id": "jM1u8Itqg39z"
      },
      "source": [
        "Here the masks correspond to probabilities indicating, for each pixel, how\n",
        "likely it is to belong to the predicted label of that instance. Those\n",
        "predicted labels correspond to the 'labels' element in the same output dict.\n",
        "Let's see which labels were predicted for the instances of the first image.\n",
        "\n"
      ]
    },
    {
      "cell_type": "code",
      "execution_count": null,
      "metadata": {
        "id": "XkCysa8Lg39z"
      },
      "outputs": [],
      "source": [
        "print(\"For the first dog, the following instances were detected:\")\n",
        "print([weights.meta[\"categories\"][label] for label in dog1_output['labels']])"
      ]
    },
    {
      "cell_type": "markdown",
      "metadata": {
        "id": "7Yp1l3Rkg39z"
      },
      "source": [
        "Interestingly, the model detects two persons in the image. Let's go ahead and\n",
        "plot those masks. Since :func:`~torchvision.utils.draw_segmentation_masks`\n",
        "expects boolean masks, we need to convert those probabilities into boolean\n",
        "values. Remember that the semantic of those masks is \"How likely is this pixel\n",
        "to belong to the predicted class?\". As a result, a natural way of converting\n",
        "those masks into boolean values is to threshold them with the 0.5 probability\n",
        "(one could also choose a different threshold).\n",
        "\n"
      ]
    },
    {
      "cell_type": "code",
      "execution_count": null,
      "metadata": {
        "id": "SKUAUlbjg390"
      },
      "outputs": [],
      "source": [
        "proba_threshold = 0.5\n",
        "dog1_bool_masks = dog1_output['masks'] > proba_threshold\n",
        "print(f\"shape = {dog1_bool_masks.shape}, dtype = {dog1_bool_masks.dtype}\")\n",
        "\n",
        "# There's an extra dimension (1) to the masks. We need to remove it\n",
        "dog1_bool_masks = dog1_bool_masks.squeeze(1)\n",
        "\n",
        "show(draw_segmentation_masks(dog1_int, dog1_bool_masks, alpha=0.9))"
      ]
    },
    {
      "cell_type": "markdown",
      "metadata": {
        "id": "P8p74Y7eg390"
      },
      "source": [
        "The model seems to have properly detected the dog, but it also confused trees\n",
        "with people. Looking more closely at the scores will help us plot more\n",
        "relevant masks:\n",
        "\n"
      ]
    },
    {
      "cell_type": "code",
      "execution_count": null,
      "metadata": {
        "id": "x8-3pKz3g390"
      },
      "outputs": [],
      "source": [
        "print(dog1_output['scores'])"
      ]
    },
    {
      "cell_type": "markdown",
      "metadata": {
        "id": "wzeEtA0Qg390"
      },
      "source": [
        "Clearly the model is more confident about the dog detection than it is about\n",
        "the people detections. That's good news. When plotting the masks, we can ask\n",
        "for only those that have a good score. Let's use a score threshold of .75\n",
        "here, and also plot the masks of the second dog.\n",
        "\n"
      ]
    },
    {
      "cell_type": "code",
      "execution_count": null,
      "metadata": {
        "id": "qNjnNYuKg391"
      },
      "outputs": [],
      "source": [
        "score_threshold = .75\n",
        "\n",
        "boolean_masks = [\n",
        "    out['masks'][out['scores'] > score_threshold] > proba_threshold\n",
        "    for out in output\n",
        "]\n",
        "\n",
        "dogs_with_masks = [\n",
        "    draw_segmentation_masks(img, mask.squeeze(1))\n",
        "    for img, mask in zip(dog_list, boolean_masks)\n",
        "]\n",
        "show(dogs_with_masks)"
      ]
    },
    {
      "cell_type": "markdown",
      "metadata": {
        "id": "HfMnThGrg391"
      },
      "source": [
        "The two 'people' masks in the first image where not selected because they have\n",
        "a lower score than the score threshold. Similarly, in the second image, the\n",
        "instance with class 15 (which corresponds to 'bench') was not selected.\n",
        "\n"
      ]
    },
    {
      "cell_type": "markdown",
      "metadata": {
        "id": "H2lL3cymg391"
      },
      "source": [
        "\n",
        "## Visualizing keypoints\n",
        "The :func:`~torchvision.utils.draw_keypoints` function can be used to\n",
        "draw keypoints on images. We will see how to use it with\n",
        "torchvision's KeypointRCNN loaded with :func:`~torchvision.models.detection.keypointrcnn_resnet50_fpn`.\n",
        "We will first have a look at output of the model.\n",
        "\n",
        "\n"
      ]
    },
    {
      "cell_type": "code",
      "execution_count": null,
      "metadata": {
        "id": "JXT0IFT7g391"
      },
      "outputs": [],
      "source": [
        "from torchvision.models.detection import keypointrcnn_resnet50_fpn, KeypointRCNN_ResNet50_FPN_Weights\n",
        "from torchvision.io import decode_image\n",
        "\n",
        "person_int = decode_image(str(Path(\"../assets\") / \"person1.jpg\"))\n",
        "\n",
        "weights = KeypointRCNN_ResNet50_FPN_Weights.DEFAULT\n",
        "transforms = weights.transforms()\n",
        "\n",
        "person_float = transforms(person_int)\n",
        "\n",
        "model = keypointrcnn_resnet50_fpn(weights=weights, progress=False)\n",
        "model = model.eval()\n",
        "\n",
        "outputs = model([person_float])\n",
        "print(outputs)"
      ]
    },
    {
      "cell_type": "markdown",
      "metadata": {
        "id": "RyuC_1FCg391"
      },
      "source": [
        "As we see the output contains a list of dictionaries.\n",
        "The output list is of length batch_size.\n",
        "We currently have just a single image so length of list is 1.\n",
        "Each entry in the list corresponds to an input image,\n",
        "and it is a dict with keys `boxes`, `labels`, `scores`, `keypoints` and `keypoint_scores`.\n",
        "Each value associated to those keys has `num_instances` elements in it.\n",
        "In our case above there are 2 instances detected in the image.\n",
        "\n"
      ]
    },
    {
      "cell_type": "code",
      "execution_count": null,
      "metadata": {
        "id": "8rd6gZX2g391"
      },
      "outputs": [],
      "source": [
        "kpts = outputs[0]['keypoints']\n",
        "scores = outputs[0]['scores']\n",
        "\n",
        "print(kpts)\n",
        "print(scores)"
      ]
    },
    {
      "cell_type": "markdown",
      "metadata": {
        "id": "toGN-vrNg391"
      },
      "source": [
        "The KeypointRCNN model detects there are two instances in the image.\n",
        "If you plot the boxes by using :func:`~draw_bounding_boxes`\n",
        "you would recognize they are the person and the surfboard.\n",
        "If we look at the scores, we will realize that the model is much more confident about the person than surfboard.\n",
        "We could now set a threshold confidence and plot instances which we are confident enough.\n",
        "Let us set a threshold of 0.75 and filter out the keypoints corresponding to the person.\n",
        "\n"
      ]
    },
    {
      "cell_type": "code",
      "execution_count": null,
      "metadata": {
        "id": "G6hDuaRMg392"
      },
      "outputs": [],
      "source": [
        "detect_threshold = 0.75\n",
        "idx = torch.where(scores > detect_threshold)\n",
        "keypoints = kpts[idx]\n",
        "\n",
        "print(keypoints)"
      ]
    },
    {
      "cell_type": "markdown",
      "metadata": {
        "id": "l6TBFzkDg392"
      },
      "source": [
        "Great, now we have the keypoints corresponding to the person.\n",
        "Each keypoint is represented by x, y coordinates and the visibility.\n",
        "We can now use the :func:`~torchvision.utils.draw_keypoints` function to draw keypoints.\n",
        "Note that the utility expects uint8 images.\n",
        "\n"
      ]
    },
    {
      "cell_type": "code",
      "execution_count": null,
      "metadata": {
        "id": "2S6kNTc3g392"
      },
      "outputs": [],
      "source": [
        "from torchvision.utils import draw_keypoints\n",
        "\n",
        "res = draw_keypoints(person_int, keypoints, colors=\"blue\", radius=3)\n",
        "show(res)"
      ]
    },
    {
      "cell_type": "markdown",
      "metadata": {
        "id": "GkpT5oiig392"
      },
      "source": [
        "As we see, the keypoints appear as colored circles over the image.\n",
        "The coco keypoints for a person are ordered and represent the following list.\\\n",
        "\n"
      ]
    },
    {
      "cell_type": "code",
      "execution_count": null,
      "metadata": {
        "id": "tdHXFnjXg392"
      },
      "outputs": [],
      "source": [
        "coco_keypoints = [\n",
        "    \"nose\", \"left_eye\", \"right_eye\", \"left_ear\", \"right_ear\",\n",
        "    \"left_shoulder\", \"right_shoulder\", \"left_elbow\", \"right_elbow\",\n",
        "    \"left_wrist\", \"right_wrist\", \"left_hip\", \"right_hip\",\n",
        "    \"left_knee\", \"right_knee\", \"left_ankle\", \"right_ankle\",\n",
        "]"
      ]
    },
    {
      "cell_type": "markdown",
      "metadata": {
        "id": "H1fTR9Fqg392"
      },
      "source": [
        "What if we are interested in joining the keypoints?\n",
        "This is especially useful in creating pose detection or action recognition.\n",
        "We can join the keypoints easily using the `connectivity` parameter.\n",
        "A close observation would reveal that we would need to join the points in below\n",
        "order to construct human skeleton.\n",
        "\n",
        "nose -> left_eye -> left_ear.                              (0, 1), (1, 3)\n",
        "\n",
        "nose -> right_eye -> right_ear.                            (0, 2), (2, 4)\n",
        "\n",
        "nose -> left_shoulder -> left_elbow -> left_wrist.         (0, 5), (5, 7), (7, 9)\n",
        "\n",
        "nose -> right_shoulder -> right_elbow -> right_wrist.      (0, 6), (6, 8), (8, 10)\n",
        "\n",
        "left_shoulder -> left_hip -> left_knee -> left_ankle.      (5, 11), (11, 13), (13, 15)\n",
        "\n",
        "right_shoulder -> right_hip -> right_knee -> right_ankle.  (6, 12), (12, 14), (14, 16)\n",
        "\n",
        "We will create a list containing these keypoint ids to be connected.\n",
        "\n"
      ]
    },
    {
      "cell_type": "code",
      "execution_count": null,
      "metadata": {
        "id": "w0lCEatsg393"
      },
      "outputs": [],
      "source": [
        "connect_skeleton = [\n",
        "    (0, 1), (0, 2), (1, 3), (2, 4), (0, 5), (0, 6), (5, 7), (6, 8),\n",
        "    (7, 9), (8, 10), (5, 11), (6, 12), (11, 13), (12, 14), (13, 15), (14, 16)\n",
        "]"
      ]
    },
    {
      "cell_type": "markdown",
      "metadata": {
        "id": "GffU8LHJg393"
      },
      "source": [
        "We pass the above list to the connectivity parameter to connect the keypoints.\n",
        "\n",
        "\n"
      ]
    },
    {
      "cell_type": "code",
      "execution_count": null,
      "metadata": {
        "id": "C9MdttmTg393"
      },
      "outputs": [],
      "source": [
        "res = draw_keypoints(person_int, keypoints, connectivity=connect_skeleton, colors=\"blue\", radius=4, width=3)\n",
        "show(res)"
      ]
    },
    {
      "cell_type": "markdown",
      "metadata": {
        "id": "M0Svrbiqg393"
      },
      "source": [
        "That looks pretty good.\n",
        "\n",
        "\n",
        "### Drawing Keypoints with Visibility\n",
        "Let's have a look at the results, another keypoint prediction module produced, and show the connectivity:\n",
        "\n"
      ]
    },
    {
      "cell_type": "code",
      "execution_count": null,
      "metadata": {
        "id": "uW7k3INyg394"
      },
      "outputs": [],
      "source": [
        "prediction = torch.tensor(\n",
        "    [[[208.0176, 214.2409, 1.0000],\n",
        "      [000.0000, 000.0000, 0.0000],\n",
        "      [197.8246, 210.6392, 1.0000],\n",
        "      [000.0000, 000.0000, 0.0000],\n",
        "      [178.6378, 217.8425, 1.0000],\n",
        "      [221.2086, 253.8591, 1.0000],\n",
        "      [160.6502, 269.4662, 1.0000],\n",
        "      [243.9929, 304.2822, 1.0000],\n",
        "      [138.4654, 328.8935, 1.0000],\n",
        "      [277.5698, 340.8990, 1.0000],\n",
        "      [153.4551, 374.5145, 1.0000],\n",
        "      [000.0000, 000.0000, 0.0000],\n",
        "      [226.0053, 370.3125, 1.0000],\n",
        "      [221.8081, 455.5516, 1.0000],\n",
        "      [273.9723, 448.9486, 1.0000],\n",
        "      [193.6275, 546.1933, 1.0000],\n",
        "      [273.3727, 545.5930, 1.0000]]]\n",
        ")\n",
        "\n",
        "res = draw_keypoints(person_int, prediction, connectivity=connect_skeleton, colors=\"blue\", radius=4, width=3)\n",
        "show(res)"
      ]
    },
    {
      "cell_type": "markdown",
      "metadata": {
        "id": "trafDIQxg394"
      },
      "source": [
        "What happened there?\n",
        "The model, which predicted the new keypoints,\n",
        "can't detect the three points that are hidden on the upper left body of the skateboarder.\n",
        "More precisely, the model predicted that `(x, y, vis) = (0, 0, 0)` for the left_eye, left_ear, and left_hip.\n",
        "So we definitely don't want to display those keypoints and connections, and you don't have to.\n",
        "Looking at the parameters of :func:`~torchvision.utils.draw_keypoints`,\n",
        "we can see that we can pass a visibility tensor as an additional argument.\n",
        "Given the models' prediction, we have the visibility as the third keypoint dimension, we just need to extract it.\n",
        "Let's split the ``prediction`` into the keypoint coordinates and their respective visibility,\n",
        "and pass both of them as arguments to :func:`~torchvision.utils.draw_keypoints`.\n",
        "\n"
      ]
    },
    {
      "cell_type": "code",
      "execution_count": null,
      "metadata": {
        "id": "A28h7O1Dg394"
      },
      "outputs": [],
      "source": [
        "coordinates, visibility = prediction.split([2, 1], dim=-1)\n",
        "visibility = visibility.bool()\n",
        "\n",
        "res = draw_keypoints(\n",
        "    person_int, coordinates, visibility=visibility, connectivity=connect_skeleton, colors=\"blue\", radius=4, width=3\n",
        ")\n",
        "show(res)"
      ]
    },
    {
      "cell_type": "markdown",
      "metadata": {
        "id": "J0Z6ut-tg394"
      },
      "source": [
        "We can see that the undetected keypoints are not draw and the invisible keypoint connections were skipped.\n",
        "This can reduce the noise on images with multiple detections, or in cases like ours,\n",
        "when the keypoint-prediction model missed some detections.\n",
        "Most torch keypoint-prediction models return the visibility for every prediction, ready for you to use it.\n",
        "The :func:`~torchvision.models.detection.keypointrcnn_resnet50_fpn` model,\n",
        "which we used in the first case, does so too.\n",
        "\n"
      ]
    }
  ],
  "metadata": {
    "kernelspec": {
      "display_name": "Python 3",
      "language": "python",
      "name": "python3"
    },
    "language_info": {
      "codemirror_mode": {
        "name": "ipython",
        "version": 3
      },
      "file_extension": ".py",
      "mimetype": "text/x-python",
      "name": "python",
      "nbconvert_exporter": "python",
      "pygments_lexer": "ipython3",
      "version": "3.10.15"
    },
    "colab": {
      "provenance": []
    }
  },
  "nbformat": 4,
  "nbformat_minor": 0
}